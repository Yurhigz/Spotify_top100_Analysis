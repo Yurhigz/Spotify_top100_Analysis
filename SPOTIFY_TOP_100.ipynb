{
 "cells": [
  {
   "cell_type": "markdown",
   "id": "c4afc187",
   "metadata": {},
   "source": [
    " <h1 align=\"center\">SPOTIFY TOP 100 - DATA ANALYSIS </h1>"
   ]
  },
  {
   "cell_type": "markdown",
   "id": "cf5bbf1a",
   "metadata": {},
   "source": [
    "![title](https://i.scdn.co/image/ab6775700000ee85df2e5b46101b53c16a6e379d)"
   ]
  },
  {
   "cell_type": "markdown",
   "id": "28895b09",
   "metadata": {},
   "source": [
    "<b> Spotify Top 100</b>\n",
    "\n",
    "Top 100 songs in 2018, based on Spotify streaming data, including name, artist and key attributes (danceability, energy, loudness, mode, speechiness, acousticness, etc)\n",
    "Here I decided to analyse the data set following these axes : \n",
    "\n",
    "   - Which artists had the most Top 100 songs?\n",
    "\n",
    "   - Are there more artists in the Top 100 with 'Lil' in their name, or with 'DJ' in their name?\n",
    "\n",
    "   - Which song attributes are most strongly correlated? What attributes seem to have very little correlation?\n",
    "\n",
    "   - Which attributes have the most variability? Which tend to be the most similar among the Top 100 songs?\n",
    "\n",
    "<i>This dataset has been imported from Maven Analytics but the all the data organization, clearing , exploration and visualization are my own personnal work. </i>"
   ]
  },
  {
   "cell_type": "markdown",
   "id": "54aea48b",
   "metadata": {},
   "source": [
    "### I am importing the necessary library to lead my analysis and visualization."
   ]
  },
  {
   "cell_type": "code",
   "execution_count": 33,
   "id": "dfbe5410",
   "metadata": {},
   "outputs": [],
   "source": [
    "import mysql.connector \n",
    "import pandas as pd \n",
    "import numpy as np \n",
    "import matplotlib.pyplot as plt \n",
    "import seaborn as sns"
   ]
  },
  {
   "cell_type": "markdown",
   "id": "1413005e",
   "metadata": {},
   "source": [
    "### I have imported the data set from excel to mySQL workbench, and I am connecting to the data base through python to further use pandas and seaborn."
   ]
  },
  {
   "cell_type": "code",
   "execution_count": 34,
   "id": "c61fea7a",
   "metadata": {},
   "outputs": [],
   "source": [
    "mydb = mysql.connector.connect(\n",
    "    host= 'localhost',\n",
    "    user='root',\n",
    "    password='Benben123,',\n",
    "    database='spotify_top_100'\n",
    ")\n",
    "\n",
    "mycursor = mydb.cursor()\n"
   ]
  },
  {
   "cell_type": "markdown",
   "id": "d9cae6d6",
   "metadata": {},
   "source": [
    "### Which artists had the most Top 100 songs?  "
   ]
  },
  {
   "cell_type": "code",
   "execution_count": 35,
   "id": "ebdb847b",
   "metadata": {},
   "outputs": [],
   "source": [
    "request_top100_songs =  \"SELECT  artists,  count(*) AS nb_top100_songs FROM top2018 GROUP BY 1 ORDER BY 2 DESC LIMIT 1;\""
   ]
  },
  {
   "cell_type": "code",
   "execution_count": 36,
   "id": "c5a00770",
   "metadata": {},
   "outputs": [],
   "source": [
    "mycursor.execute(request_top100_songs)"
   ]
  },
  {
   "cell_type": "code",
   "execution_count": 37,
   "id": "835f684b",
   "metadata": {},
   "outputs": [],
   "source": [
    "result_top_100 = mycursor.fetchall()"
   ]
  },
  {
   "cell_type": "code",
   "execution_count": 38,
   "id": "7e4940b3",
   "metadata": {},
   "outputs": [
    {
     "data": {
      "text/plain": [
       "[('XXXTENTACION', 6)]"
      ]
     },
     "execution_count": 38,
     "metadata": {},
     "output_type": "execute_result"
    }
   ],
   "source": [
    "result_top_100"
   ]
  },
  {
   "cell_type": "markdown",
   "id": "9625f423",
   "metadata": {},
   "source": [
    "#### XXXTENTACION is the most representated artist among the top 100 songs in 2018. \n"
   ]
  },
  {
   "cell_type": "markdown",
   "id": "0c440950",
   "metadata": {},
   "source": [
    "### Are there more artists in the Top 100 with 'Lil' in their name, or with 'DJ' in their name? "
   ]
  },
  {
   "cell_type": "code",
   "execution_count": 39,
   "id": "0286a79b",
   "metadata": {},
   "outputs": [],
   "source": [
    "request_lil_or_dj= \" SELECT \\\n",
    "COUNT(CASE WHEN artists LIKE '{}' THEN artists ELSE NULL END) AS lil_in_name, \\\n",
    "COUNT(CASE WHEN artists LIKE '{}' THEN artists ELSE NULL END) AS DJ_in_name \\\n",
    "FROM \\\n",
    "top2018;\""
   ]
  },
  {
   "cell_type": "code",
   "execution_count": 40,
   "id": "782c8191",
   "metadata": {},
   "outputs": [
    {
     "data": {
      "text/plain": [
       "['%Lil%', '%DJ%']"
      ]
     },
     "execution_count": 40,
     "metadata": {},
     "output_type": "execute_result"
    }
   ],
   "source": [
    "args = [('%'+'Lil'+'%'),'%DJ%']\n",
    "args"
   ]
  },
  {
   "cell_type": "code",
   "execution_count": 41,
   "id": "a5f648a0",
   "metadata": {},
   "outputs": [],
   "source": [
    "mycursor.execute(request_lil_or_dj.format(*args))"
   ]
  },
  {
   "cell_type": "code",
   "execution_count": 42,
   "id": "8fbf2427",
   "metadata": {},
   "outputs": [],
   "source": [
    "result_lil_or_dj= mycursor.fetchall()"
   ]
  },
  {
   "cell_type": "code",
   "execution_count": 43,
   "id": "0b59143f",
   "metadata": {},
   "outputs": [
    {
     "data": {
      "text/plain": [
       "[(3, 2)]"
      ]
     },
     "execution_count": 43,
     "metadata": {},
     "output_type": "execute_result"
    }
   ],
   "source": [
    "result_lil_or_dj"
   ]
  },
  {
   "cell_type": "markdown",
   "id": "46c8edd3",
   "metadata": {},
   "source": [
    "#### As we can see there are more artists with 'Lil' in their name than artists with 'DJ' in their name."
   ]
  },
  {
   "cell_type": "markdown",
   "id": "916b25a9",
   "metadata": {},
   "source": [
    "### Which song attributes are most strongly correlated? What attributes seem to have very little correlation?"
   ]
  },
  {
   "cell_type": "markdown",
   "id": "3cdae0b4",
   "metadata": {},
   "source": [
    "Here to study the correlation I am going to create a Dataframe and then I will use the 'corr' function to analyze the correlation between the different attributes. Moreover I am going to visualize it through a heatmap which will be more explicit."
   ]
  },
  {
   "cell_type": "code",
   "execution_count": 44,
   "id": "585075c7",
   "metadata": {},
   "outputs": [],
   "source": [
    "request_correlation = 'SELECT * FROM top2018;'"
   ]
  },
  {
   "cell_type": "code",
   "execution_count": 45,
   "id": "29b6b1ef",
   "metadata": {},
   "outputs": [],
   "source": [
    "mycursor.execute(request_correlation)"
   ]
  },
  {
   "cell_type": "code",
   "execution_count": 46,
   "id": "c0c51961",
   "metadata": {},
   "outputs": [],
   "source": [
    "result_correlation = mycursor.fetchall()"
   ]
  },
  {
   "cell_type": "markdown",
   "id": "14b61240",
   "metadata": {},
   "source": [
    "As we only retrieve the data when we fetch from the cursor I am going to use the description method and run through it to get the column titles."
   ]
  },
  {
   "cell_type": "code",
   "execution_count": 47,
   "id": "e2e84240",
   "metadata": {},
   "outputs": [],
   "source": [
    "header=[]"
   ]
  },
  {
   "cell_type": "code",
   "execution_count": 48,
   "id": "6535272e",
   "metadata": {},
   "outputs": [],
   "source": [
    "for element in mycursor.description:\n",
    "    header.append(element[0])"
   ]
  },
  {
   "cell_type": "code",
   "execution_count": 49,
   "id": "95070f19",
   "metadata": {},
   "outputs": [],
   "source": [
    "df = pd.DataFrame(result_correlation,columns=header)"
   ]
  },
  {
   "cell_type": "code",
   "execution_count": 50,
   "id": "3810a0e5",
   "metadata": {},
   "outputs": [],
   "source": [
    "df_attributes = df.loc[:,'danceability':]"
   ]
  },
  {
   "cell_type": "code",
   "execution_count": 51,
   "id": "7cb859e5",
   "metadata": {},
   "outputs": [],
   "source": [
    "df_attributes_corr = df_attributes.corr(method='pearson')"
   ]
  },
  {
   "cell_type": "code",
   "execution_count": 52,
   "id": "fade4124",
   "metadata": {},
   "outputs": [],
   "source": [
    "mask = np.triu(df_attributes_corr,0)"
   ]
  },
  {
   "cell_type": "code",
   "execution_count": 53,
   "id": "4fc4783a",
   "metadata": {},
   "outputs": [
    {
     "data": {
      "image/png": "[encoded data removed]",
      "text/plain": [
       "<Figure size 1080x576 with 2 Axes>"
      ]
     },
     "metadata": {
      "needs_background": "light"
     },
     "output_type": "display_data"
    }
   ],
   "source": [
    "plt.figure(figsize=(15,8))\n",
    "sns.heatmap(df_attributes_corr,mask=mask,linewidths=1,cmap='RdYlGn',annot=True)\n",
    "plt.show()"
   ]
  },
  {
   "cell_type": "markdown",
   "id": "b748fec9",
   "metadata": {},
   "source": [
    "#### The most correlated attributes according to pearson correlation are loudness and energy , then we'll find the valence/danceability and valence/loudness couples followed closely by valence/energy."
   ]
  },
  {
   "cell_type": "markdown",
   "id": "0222d54a",
   "metadata": {},
   "source": [
    "#### The least correlated attributes are acousticness/energy, loudness/acousticness and speechiness/loudness."
   ]
  },
  {
   "cell_type": "markdown",
   "id": "edb66c05",
   "metadata": {},
   "source": [
    "### Which attributes have the most variability? Which tend to be the most similar among the Top 100 songs? "
   ]
  },
  {
   "cell_type": "markdown",
   "id": "15ecedca",
   "metadata": {},
   "source": [
    "To study the variability of an attributes I will compare their range, their mean, standard deviation and their variance, I will use the same df to obtain these informations."
   ]
  },
  {
   "cell_type": "code",
   "execution_count": 54,
   "id": "4961fee2",
   "metadata": {},
   "outputs": [
    {
     "data": {
      "text/html": [
       "<div>\n",
       "<style scoped>\n",
       "    .dataframe tbody tr th:only-of-type {\n",
       "        vertical-align: middle;\n",
       "    }\n",
       "\n",
       "    .dataframe tbody tr th {\n",
       "        vertical-align: top;\n",
       "    }\n",
       "\n",
       "    .dataframe thead th {\n",
       "        text-align: right;\n",
       "    }\n",
       "</style>\n",
       "<table border=\"1\" class=\"dataframe\">\n",
       "  <thead>\n",
       "    <tr style=\"text-align: right;\">\n",
       "      <th></th>\n",
       "      <th>danceability</th>\n",
       "      <th>energy</th>\n",
       "      <th>key</th>\n",
       "      <th>loudness</th>\n",
       "      <th>mode</th>\n",
       "      <th>speechiness</th>\n",
       "      <th>acousticness</th>\n",
       "      <th>instrumentalness</th>\n",
       "      <th>liveness</th>\n",
       "      <th>valence</th>\n",
       "      <th>tempo</th>\n",
       "      <th>duration_ms</th>\n",
       "      <th>time_signature</th>\n",
       "    </tr>\n",
       "  </thead>\n",
       "  <tbody>\n",
       "    <tr>\n",
       "      <th>count</th>\n",
       "      <td>100.00000</td>\n",
       "      <td>100.000000</td>\n",
       "      <td>100.000000</td>\n",
       "      <td>100.000000</td>\n",
       "      <td>100.000000</td>\n",
       "      <td>100.000000</td>\n",
       "      <td>100.000000</td>\n",
       "      <td>100.000000</td>\n",
       "      <td>100.000000</td>\n",
       "      <td>100.000000</td>\n",
       "      <td>100.000000</td>\n",
       "      <td>100.000000</td>\n",
       "      <td>100.00</td>\n",
       "    </tr>\n",
       "    <tr>\n",
       "      <th>mean</th>\n",
       "      <td>0.71646</td>\n",
       "      <td>0.659060</td>\n",
       "      <td>5.330000</td>\n",
       "      <td>-5.677640</td>\n",
       "      <td>0.590000</td>\n",
       "      <td>0.115569</td>\n",
       "      <td>0.195701</td>\n",
       "      <td>0.001584</td>\n",
       "      <td>0.158302</td>\n",
       "      <td>0.484443</td>\n",
       "      <td>119.904180</td>\n",
       "      <td>205206.780000</td>\n",
       "      <td>3.98</td>\n",
       "    </tr>\n",
       "    <tr>\n",
       "      <th>std</th>\n",
       "      <td>0.13107</td>\n",
       "      <td>0.145067</td>\n",
       "      <td>3.676447</td>\n",
       "      <td>1.777577</td>\n",
       "      <td>0.494311</td>\n",
       "      <td>0.104527</td>\n",
       "      <td>0.220946</td>\n",
       "      <td>0.013449</td>\n",
       "      <td>0.111662</td>\n",
       "      <td>0.206145</td>\n",
       "      <td>28.795984</td>\n",
       "      <td>40007.893404</td>\n",
       "      <td>0.20</td>\n",
       "    </tr>\n",
       "    <tr>\n",
       "      <th>min</th>\n",
       "      <td>0.25800</td>\n",
       "      <td>0.296000</td>\n",
       "      <td>0.000000</td>\n",
       "      <td>-10.109000</td>\n",
       "      <td>0.000000</td>\n",
       "      <td>0.023200</td>\n",
       "      <td>0.000282</td>\n",
       "      <td>0.000000</td>\n",
       "      <td>0.021500</td>\n",
       "      <td>0.079600</td>\n",
       "      <td>64.934000</td>\n",
       "      <td>95467.000000</td>\n",
       "      <td>3.00</td>\n",
       "    </tr>\n",
       "    <tr>\n",
       "      <th>25%</th>\n",
       "      <td>0.63550</td>\n",
       "      <td>0.562000</td>\n",
       "      <td>1.750000</td>\n",
       "      <td>-6.650500</td>\n",
       "      <td>0.000000</td>\n",
       "      <td>0.045350</td>\n",
       "      <td>0.040225</td>\n",
       "      <td>0.000000</td>\n",
       "      <td>0.094675</td>\n",
       "      <td>0.341000</td>\n",
       "      <td>95.730750</td>\n",
       "      <td>184680.000000</td>\n",
       "      <td>4.00</td>\n",
       "    </tr>\n",
       "    <tr>\n",
       "      <th>50%</th>\n",
       "      <td>0.73300</td>\n",
       "      <td>0.678000</td>\n",
       "      <td>5.000000</td>\n",
       "      <td>-5.566500</td>\n",
       "      <td>1.000000</td>\n",
       "      <td>0.074950</td>\n",
       "      <td>0.109000</td>\n",
       "      <td>0.000000</td>\n",
       "      <td>0.118500</td>\n",
       "      <td>0.470500</td>\n",
       "      <td>120.116000</td>\n",
       "      <td>205047.500000</td>\n",
       "      <td>4.00</td>\n",
       "    </tr>\n",
       "    <tr>\n",
       "      <th>75%</th>\n",
       "      <td>0.79825</td>\n",
       "      <td>0.772250</td>\n",
       "      <td>8.250000</td>\n",
       "      <td>-4.363750</td>\n",
       "      <td>1.000000</td>\n",
       "      <td>0.137000</td>\n",
       "      <td>0.247750</td>\n",
       "      <td>0.000031</td>\n",
       "      <td>0.170750</td>\n",
       "      <td>0.641500</td>\n",
       "      <td>140.022750</td>\n",
       "      <td>221493.250000</td>\n",
       "      <td>4.00</td>\n",
       "    </tr>\n",
       "    <tr>\n",
       "      <th>max</th>\n",
       "      <td>0.96400</td>\n",
       "      <td>0.909000</td>\n",
       "      <td>11.000000</td>\n",
       "      <td>-2.384000</td>\n",
       "      <td>1.000000</td>\n",
       "      <td>0.530000</td>\n",
       "      <td>0.934000</td>\n",
       "      <td>0.134000</td>\n",
       "      <td>0.636000</td>\n",
       "      <td>0.931000</td>\n",
       "      <td>198.075000</td>\n",
       "      <td>417920.000000</td>\n",
       "      <td>5.00</td>\n",
       "    </tr>\n",
       "  </tbody>\n",
       "</table>\n",
       "</div>"
      ],
      "text/plain": [
       "       danceability      energy         key    loudness        mode  \\\n",
       "count     100.00000  100.000000  100.000000  100.000000  100.000000   \n",
       "mean        0.71646    0.659060    5.330000   -5.677640    0.590000   \n",
       "std         0.13107    0.145067    3.676447    1.777577    0.494311   \n",
       "min         0.25800    0.296000    0.000000  -10.109000    0.000000   \n",
       "25%         0.63550    0.562000    1.750000   -6.650500    0.000000   \n",
       "50%         0.73300    0.678000    5.000000   -5.566500    1.000000   \n",
       "75%         0.79825    0.772250    8.250000   -4.363750    1.000000   \n",
       "max         0.96400    0.909000   11.000000   -2.384000    1.000000   \n",
       "\n",
       "       speechiness  acousticness  instrumentalness    liveness     valence  \\\n",
       "count   100.000000    100.000000        100.000000  100.000000  100.000000   \n",
       "mean      0.115569      0.195701          0.001584    0.158302    0.484443   \n",
       "std       0.104527      0.220946          0.013449    0.111662    0.206145   \n",
       "min       0.023200      0.000282          0.000000    0.021500    0.079600   \n",
       "25%       0.045350      0.040225          0.000000    0.094675    0.341000   \n",
       "50%       0.074950      0.109000          0.000000    0.118500    0.470500   \n",
       "75%       0.137000      0.247750          0.000031    0.170750    0.641500   \n",
       "max       0.530000      0.934000          0.134000    0.636000    0.931000   \n",
       "\n",
       "            tempo    duration_ms  time_signature  \n",
       "count  100.000000     100.000000          100.00  \n",
       "mean   119.904180  205206.780000            3.98  \n",
       "std     28.795984   40007.893404            0.20  \n",
       "min     64.934000   95467.000000            3.00  \n",
       "25%     95.730750  184680.000000            4.00  \n",
       "50%    120.116000  205047.500000            4.00  \n",
       "75%    140.022750  221493.250000            4.00  \n",
       "max    198.075000  417920.000000            5.00  "
      ]
     },
     "execution_count": 54,
     "metadata": {},
     "output_type": "execute_result"
    }
   ],
   "source": [
    "df_attributes.describe()"
   ]
  },
  {
   "cell_type": "code",
   "execution_count": 63,
   "id": "efc7bf15",
   "metadata": {},
   "outputs": [
    {
     "data": {
      "text/html": [
       "<div>\n",
       "<style scoped>\n",
       "    .dataframe tbody tr th:only-of-type {\n",
       "        vertical-align: middle;\n",
       "    }\n",
       "\n",
       "    .dataframe tbody tr th {\n",
       "        vertical-align: top;\n",
       "    }\n",
       "\n",
       "    .dataframe thead th {\n",
       "        text-align: right;\n",
       "    }\n",
       "</style>\n",
       "<table border=\"1\" class=\"dataframe\">\n",
       "  <thead>\n",
       "    <tr style=\"text-align: right;\">\n",
       "      <th></th>\n",
       "      <th>danceability</th>\n",
       "      <th>energy</th>\n",
       "      <th>key</th>\n",
       "      <th>loudness</th>\n",
       "      <th>mode</th>\n",
       "      <th>speechiness</th>\n",
       "      <th>acousticness</th>\n",
       "      <th>instrumentalness</th>\n",
       "      <th>liveness</th>\n",
       "      <th>valence</th>\n",
       "      <th>tempo</th>\n",
       "      <th>duration_ms</th>\n",
       "      <th>time_signature</th>\n",
       "    </tr>\n",
       "  </thead>\n",
       "  <tbody>\n",
       "    <tr>\n",
       "      <th>0</th>\n",
       "      <td>0.754</td>\n",
       "      <td>0.449</td>\n",
       "      <td>7</td>\n",
       "      <td>-9.211</td>\n",
       "      <td>1</td>\n",
       "      <td>0.1090</td>\n",
       "      <td>0.0332</td>\n",
       "      <td>0.000083</td>\n",
       "      <td>0.5520</td>\n",
       "      <td>0.3570</td>\n",
       "      <td>77.169</td>\n",
       "      <td>198973.0</td>\n",
       "      <td>4.0</td>\n",
       "    </tr>\n",
       "    <tr>\n",
       "      <th>1</th>\n",
       "      <td>0.740</td>\n",
       "      <td>0.613</td>\n",
       "      <td>8</td>\n",
       "      <td>-4.880</td>\n",
       "      <td>1</td>\n",
       "      <td>0.1450</td>\n",
       "      <td>0.2580</td>\n",
       "      <td>0.003720</td>\n",
       "      <td>0.1230</td>\n",
       "      <td>0.4730</td>\n",
       "      <td>75.023</td>\n",
       "      <td>166606.0</td>\n",
       "      <td>4.0</td>\n",
       "    </tr>\n",
       "    <tr>\n",
       "      <th>2</th>\n",
       "      <td>0.587</td>\n",
       "      <td>0.535</td>\n",
       "      <td>5</td>\n",
       "      <td>-6.090</td>\n",
       "      <td>0</td>\n",
       "      <td>0.0898</td>\n",
       "      <td>0.1170</td>\n",
       "      <td>0.000066</td>\n",
       "      <td>0.1310</td>\n",
       "      <td>0.1400</td>\n",
       "      <td>159.847</td>\n",
       "      <td>218147.0</td>\n",
       "      <td>4.0</td>\n",
       "    </tr>\n",
       "    <tr>\n",
       "      <th>3</th>\n",
       "      <td>0.739</td>\n",
       "      <td>0.559</td>\n",
       "      <td>8</td>\n",
       "      <td>-8.011</td>\n",
       "      <td>1</td>\n",
       "      <td>0.1170</td>\n",
       "      <td>0.5800</td>\n",
       "      <td>0.000000</td>\n",
       "      <td>0.1120</td>\n",
       "      <td>0.4390</td>\n",
       "      <td>140.124</td>\n",
       "      <td>221440.0</td>\n",
       "      <td>4.0</td>\n",
       "    </tr>\n",
       "    <tr>\n",
       "      <th>4</th>\n",
       "      <td>0.835</td>\n",
       "      <td>0.626</td>\n",
       "      <td>1</td>\n",
       "      <td>-5.833</td>\n",
       "      <td>1</td>\n",
       "      <td>0.1250</td>\n",
       "      <td>0.0589</td>\n",
       "      <td>0.000060</td>\n",
       "      <td>0.3960</td>\n",
       "      <td>0.3500</td>\n",
       "      <td>91.030</td>\n",
       "      <td>217925.0</td>\n",
       "      <td>4.0</td>\n",
       "    </tr>\n",
       "    <tr>\n",
       "      <th>...</th>\n",
       "      <td>...</td>\n",
       "      <td>...</td>\n",
       "      <td>...</td>\n",
       "      <td>...</td>\n",
       "      <td>...</td>\n",
       "      <td>...</td>\n",
       "      <td>...</td>\n",
       "      <td>...</td>\n",
       "      <td>...</td>\n",
       "      <td>...</td>\n",
       "      <td>...</td>\n",
       "      <td>...</td>\n",
       "      <td>...</td>\n",
       "    </tr>\n",
       "    <tr>\n",
       "      <th>95</th>\n",
       "      <td>0.684</td>\n",
       "      <td>0.619</td>\n",
       "      <td>10</td>\n",
       "      <td>-7.005</td>\n",
       "      <td>1</td>\n",
       "      <td>0.0386</td>\n",
       "      <td>0.0716</td>\n",
       "      <td>0.000000</td>\n",
       "      <td>0.1220</td>\n",
       "      <td>0.2840</td>\n",
       "      <td>125.046</td>\n",
       "      <td>217440.0</td>\n",
       "      <td>4.0</td>\n",
       "    </tr>\n",
       "    <tr>\n",
       "      <th>96</th>\n",
       "      <td>0.638</td>\n",
       "      <td>0.658</td>\n",
       "      <td>3</td>\n",
       "      <td>-6.318</td>\n",
       "      <td>1</td>\n",
       "      <td>0.0456</td>\n",
       "      <td>0.2450</td>\n",
       "      <td>0.000004</td>\n",
       "      <td>0.0919</td>\n",
       "      <td>0.3300</td>\n",
       "      <td>105.076</td>\n",
       "      <td>205748.0</td>\n",
       "      <td>4.0</td>\n",
       "    </tr>\n",
       "    <tr>\n",
       "      <th>97</th>\n",
       "      <td>0.552</td>\n",
       "      <td>0.760</td>\n",
       "      <td>0</td>\n",
       "      <td>-4.706</td>\n",
       "      <td>1</td>\n",
       "      <td>0.3420</td>\n",
       "      <td>0.0733</td>\n",
       "      <td>0.000000</td>\n",
       "      <td>0.0865</td>\n",
       "      <td>0.6390</td>\n",
       "      <td>135.702</td>\n",
       "      <td>260000.0</td>\n",
       "      <td>5.0</td>\n",
       "    </tr>\n",
       "    <tr>\n",
       "      <th>98</th>\n",
       "      <td>0.258</td>\n",
       "      <td>0.437</td>\n",
       "      <td>11</td>\n",
       "      <td>-6.593</td>\n",
       "      <td>0</td>\n",
       "      <td>0.0390</td>\n",
       "      <td>0.1010</td>\n",
       "      <td>0.000001</td>\n",
       "      <td>0.1060</td>\n",
       "      <td>0.0967</td>\n",
       "      <td>180.043</td>\n",
       "      <td>239000.0</td>\n",
       "      <td>4.0</td>\n",
       "    </tr>\n",
       "    <tr>\n",
       "      <th>99</th>\n",
       "      <td>0.553</td>\n",
       "      <td>0.586</td>\n",
       "      <td>11</td>\n",
       "      <td>-6.319</td>\n",
       "      <td>1</td>\n",
       "      <td>0.0362</td>\n",
       "      <td>0.6970</td>\n",
       "      <td>0.000000</td>\n",
       "      <td>0.0813</td>\n",
       "      <td>0.4430</td>\n",
       "      <td>126.684</td>\n",
       "      <td>196373.0</td>\n",
       "      <td>4.0</td>\n",
       "    </tr>\n",
       "  </tbody>\n",
       "</table>\n",
       "<p>100 rows × 13 columns</p>\n",
       "</div>"
      ],
      "text/plain": [
       "    danceability  energy  key  loudness  mode  speechiness  acousticness  \\\n",
       "0          0.754   0.449    7    -9.211     1       0.1090        0.0332   \n",
       "1          0.740   0.613    8    -4.880     1       0.1450        0.2580   \n",
       "2          0.587   0.535    5    -6.090     0       0.0898        0.1170   \n",
       "3          0.739   0.559    8    -8.011     1       0.1170        0.5800   \n",
       "4          0.835   0.626    1    -5.833     1       0.1250        0.0589   \n",
       "..           ...     ...  ...       ...   ...          ...           ...   \n",
       "95         0.684   0.619   10    -7.005     1       0.0386        0.0716   \n",
       "96         0.638   0.658    3    -6.318     1       0.0456        0.2450   \n",
       "97         0.552   0.760    0    -4.706     1       0.3420        0.0733   \n",
       "98         0.258   0.437   11    -6.593     0       0.0390        0.1010   \n",
       "99         0.553   0.586   11    -6.319     1       0.0362        0.6970   \n",
       "\n",
       "    instrumentalness  liveness  valence    tempo  duration_ms  time_signature  \n",
       "0           0.000083    0.5520   0.3570   77.169     198973.0             4.0  \n",
       "1           0.003720    0.1230   0.4730   75.023     166606.0             4.0  \n",
       "2           0.000066    0.1310   0.1400  159.847     218147.0             4.0  \n",
       "3           0.000000    0.1120   0.4390  140.124     221440.0             4.0  \n",
       "4           0.000060    0.3960   0.3500   91.030     217925.0             4.0  \n",
       "..               ...       ...      ...      ...          ...             ...  \n",
       "95          0.000000    0.1220   0.2840  125.046     217440.0             4.0  \n",
       "96          0.000004    0.0919   0.3300  105.076     205748.0             4.0  \n",
       "97          0.000000    0.0865   0.6390  135.702     260000.0             5.0  \n",
       "98          0.000001    0.1060   0.0967  180.043     239000.0             4.0  \n",
       "99          0.000000    0.0813   0.4430  126.684     196373.0             4.0  \n",
       "\n",
       "[100 rows x 13 columns]"
      ]
     },
     "execution_count": 63,
     "metadata": {},
     "output_type": "execute_result"
    }
   ],
   "source": [
    "df_attributes"
   ]
  },
  {
   "cell_type": "markdown",
   "id": "c2c54c6f",
   "metadata": {},
   "source": [
    "I think it could be a great idea to normalize every columns to obtain comparable value and then study the variability of each components side by side."
   ]
  },
  {
   "cell_type": "code",
   "execution_count": 167,
   "id": "73edbd24",
   "metadata": {},
   "outputs": [],
   "source": [
    "df_attributes_agg = df_attributes.agg(['mean','std','var'])"
   ]
  },
  {
   "cell_type": "code",
   "execution_count": 168,
   "id": "936b334b",
   "metadata": {},
   "outputs": [],
   "source": [
    "df_normalized = (df_attributes_agg-df_attributes_agg.mean())/df_attributes_agg.std()"
   ]
  },
  {
   "cell_type": "code",
   "execution_count": 169,
   "id": "d768cad3",
   "metadata": {},
   "outputs": [
    {
     "data": {
      "image/png": "[encoded data removed]",
      "text/plain": [
       "<Figure size 1080x576 with 2 Axes>"
      ]
     },
     "metadata": {
      "needs_background": "light"
     },
     "output_type": "display_data"
    }
   ],
   "source": [
    "plt.figure(figsize=(15,8))\n",
    "sns.heatmap(df_normalized,linewidths=1,cmap='RdYlGn',annot=True)\n",
    "plt.show()"
   ]
  },
  {
   "cell_type": "markdown",
   "id": "c6e032d7",
   "metadata": {},
   "source": [
    "Every variables are now normalized, then I am going to refer to the standard deviation to measure the variability of the components. As we can see the instrumentalness is subject to high variability given its std score."
   ]
  },
  {
   "cell_type": "markdown",
   "id": "d0ae366c",
   "metadata": {},
   "source": [
    "But when it comes to variance we can see that only a few components such instrumentalness, time_signature or loudness and danceability are not very important which mean, the value dispersion is not very important."
   ]
  },
  {
   "cell_type": "markdown",
   "id": "5e7f1c5e",
   "metadata": {},
   "source": [
    "Valence, liveness and the mode are most likely the most similar in the top 100. "
   ]
  }
 ],
 "metadata": {
  "kernelspec": {
   "display_name": "Python 3 (ipykernel)",
   "language": "python",
   "name": "python3"
  },
  "language_info": {
   "codemirror_mode": {
    "name": "ipython",
    "version": 3
   },
   "file_extension": ".py",
   "mimetype": "text/x-python",
   "name": "python",
   "nbconvert_exporter": "python",
   "pygments_lexer": "ipython3",
   "version": "3.9.12"
  }
 },
 "nbformat": 4,
 "nbformat_minor": 5
}
