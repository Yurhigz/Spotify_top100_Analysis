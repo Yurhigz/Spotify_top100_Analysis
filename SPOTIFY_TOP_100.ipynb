{
 "cells": [
  {
   "cell_type": "markdown",
   "id": "78fcc56d",
   "metadata": {},
   "source": [
    " <h1 align=\"center\">SPOTIFY TOP 100 - DATA ANALYSIS </h1>"
   ]
  },
  {
   "cell_type": "markdown",
   "id": "8d3ebca6",
   "metadata": {},
   "source": [
    "![title](https://i.scdn.co/image/ab6775700000ee85df2e5b46101b53c16a6e379d)"
   ]
  },
  {
   "cell_type": "markdown",
   "id": "ca56affd",
   "metadata": {},
   "source": [
    "<b> Spotify Top 100</b>\n",
    "\n",
    "Top 100 songs in 2018, based on Spotify streaming data, including name, artist and key attributes (danceability, energy, loudness, mode, speechiness, acousticness, etc)\n",
    "Here I decided to analyse the data set following these axes : \n",
    "\n",
    "   - Which artists had the most Top 100 songs?\n",
    "\n",
    "   - Are there more artists in the Top 100 with 'Lil' in their name, or with 'DJ' in their name?\n",
    "\n",
    "   - Which song attributes are most strongly correlated? What attributes seem to have very little correlation?\n",
    "\n",
    "   - Which attributes have the most variability? Which tend to be the most similar among the Top 100 songs?\n",
    "\n",
    "<i>This dataset has been imported from Maven Analytics but the all the data organization, clearing , exploration and visualization are my own personnal work. </i>"
   ]
  },
  {
   "cell_type": "markdown",
   "id": "c42644ff",
   "metadata": {},
   "source": [
    "### I am importing the necessary library to lead my analysis and visualization."
   ]
  },
  {
   "cell_type": "code",
   "execution_count": 33,
   "id": "dfbe5410",
   "metadata": {},
   "outputs": [],
   "source": [
    "import mysql.connector \n",
    "import pandas as pd \n",
    "import numpy as np \n",
    "import matplotlib.pyplot as plt \n",
    "import seaborn as sns"
   ]
  },
  {
   "cell_type": "markdown",
   "id": "291f77d0",
   "metadata": {},
   "source": [
    "### I have imported the data set from excel to mySQL workbench, and I am connecting to the data base through python to further use pandas and seaborn."
   ]
  },
  {
   "cell_type": "code",
   "execution_count": 34,
   "id": "c61fea7a",
   "metadata": {},
   "outputs": [],
   "source": [
    "mydb = mysql.connector.connect(\n",
    "    host= 'localhost',\n",
    "    user='root',\n",
    "    password='Benben123,',\n",
    "    database='spotify_top_100'\n",
    ")\n",
    "\n",
    "mycursor = mydb.cursor()\n"
   ]
  },
  {
   "cell_type": "markdown",
   "id": "7cef2342",
   "metadata": {},
   "source": [
    "### Which artists had the most Top 100 songs?  "
   ]
  },
  {
   "cell_type": "code",
   "execution_count": 35,
   "id": "ebdb847b",
   "metadata": {},
   "outputs": [],
   "source": [
    "request_top100_songs =  \"SELECT  artists,  count(*) AS nb_top100_songs FROM top2018 GROUP BY 1 ORDER BY 2 DESC LIMIT 1;\""
   ]
  },
  {
   "cell_type": "code",
   "execution_count": 36,
   "id": "c5a00770",
   "metadata": {},
   "outputs": [],
   "source": [
    "mycursor.execute(request_top100_songs)"
   ]
  },
  {
   "cell_type": "code",
   "execution_count": 37,
   "id": "835f684b",
   "metadata": {},
   "outputs": [],
   "source": [
    "result_top_100 = mycursor.fetchall()"
   ]
  },
  {
   "cell_type": "code",
   "execution_count": 38,
   "id": "7e4940b3",
   "metadata": {},
   "outputs": [
    {
     "data": {
      "text/plain": [
       "[('XXXTENTACION', 6)]"
      ]
     },
     "execution_count": 38,
     "metadata": {},
     "output_type": "execute_result"
    }
   ],
   "source": [
    "result_top_100"
   ]
  },
  {
   "cell_type": "markdown",
   "id": "677ad6b3",
   "metadata": {},
   "source": [
    "#### XXXTENTACION is the most representated artist among the top 100 songs in 2018. \n"
   ]
  },
  {
   "cell_type": "markdown",
   "id": "71e9810b",
   "metadata": {},
   "source": [
    "### Are there more artists in the Top 100 with 'Lil' in their name, or with 'DJ' in their name? "
   ]
  },
  {
   "cell_type": "code",
   "execution_count": 39,
   "id": "bf448f20",
   "metadata": {},
   "outputs": [],
   "source": [
    "request_lil_or_dj= \" SELECT \\\n",
    "COUNT(CASE WHEN artists LIKE '{}' THEN artists ELSE NULL END) AS lil_in_name, \\\n",
    "COUNT(CASE WHEN artists LIKE '{}' THEN artists ELSE NULL END) AS DJ_in_name \\\n",
    "FROM \\\n",
    "top2018;\""
   ]
  },
  {
   "cell_type": "code",
   "execution_count": 40,
   "id": "c31c254a",
   "metadata": {},
   "outputs": [
    {
     "data": {
      "text/plain": [
       "['%Lil%', '%DJ%']"
      ]
     },
     "execution_count": 40,
     "metadata": {},
     "output_type": "execute_result"
    }
   ],
   "source": [
    "args = [('%'+'Lil'+'%'),'%DJ%']\n",
    "args"
   ]
  },
  {
   "cell_type": "code",
   "execution_count": 41,
   "id": "6a2ad3c6",
   "metadata": {},
   "outputs": [],
   "source": [
    "mycursor.execute(request_lil_or_dj.format(*args))"
   ]
  },
  {
   "cell_type": "code",
   "execution_count": 42,
   "id": "13882f68",
   "metadata": {},
   "outputs": [],
   "source": [
    "result_lil_or_dj= mycursor.fetchall()"
   ]
  },
  {
   "cell_type": "code",
   "execution_count": 43,
   "id": "9d6f5888",
   "metadata": {},
   "outputs": [
    {
     "data": {
      "text/plain": [
       "[(3, 2)]"
      ]
     },
     "execution_count": 43,
     "metadata": {},
     "output_type": "execute_result"
    }
   ],
   "source": [
    "result_lil_or_dj"
   ]
  },
  {
   "cell_type": "markdown",
   "id": "108d6a86",
   "metadata": {},
   "source": [
    "#### As we can see there are more artists with 'Lil' in their name than artists with 'DJ' in their name."
   ]
  },
  {
   "cell_type": "markdown",
   "id": "aefe1259",
   "metadata": {},
   "source": [
    "### Which song attributes are most strongly correlated? What attributes seem to have very little correlation?"
   ]
  },
  {
   "cell_type": "markdown",
   "id": "3266e9cc",
   "metadata": {},
   "source": [
    "Here to study the correlation I am going to create a Dataframe and then I will use the 'corr' function to analyze the correlation between the different attributes. Moreover I am going to visualize it through a heatmap which will be more explicit."
   ]
  },
  {
   "cell_type": "code",
   "execution_count": 44,
   "id": "594af71a",
   "metadata": {},
   "outputs": [],
   "source": [
    "request_correlation = 'SELECT * FROM top2018;'"
   ]
  },
  {
   "cell_type": "code",
   "execution_count": 45,
   "id": "c4a5e71e",
   "metadata": {},
   "outputs": [],
   "source": [
    "mycursor.execute(request_correlation)"
   ]
  },
  {
   "cell_type": "code",
   "execution_count": 46,
   "id": "0f0f3587",
   "metadata": {},
   "outputs": [],
   "source": [
    "result_correlation = mycursor.fetchall()"
   ]
  },
  {
   "cell_type": "markdown",
   "id": "d1f5564e",
   "metadata": {},
   "source": [
    "As we only retrieve the data when we fetch from the cursor I am going to use the description method and run through it to get the column titles."
   ]
  },
  {
   "cell_type": "code",
   "execution_count": 47,
   "id": "2765b2ce",
   "metadata": {},
   "outputs": [],
   "source": [
    "header=[]"
   ]
  },
  {
   "cell_type": "code",
   "execution_count": 48,
   "id": "f2e1ab88",
   "metadata": {},
   "outputs": [],
   "source": [
    "for element in mycursor.description:\n",
    "    header.append(element[0])"
   ]
  },
  {
   "cell_type": "code",
   "execution_count": 49,
   "id": "611ea319",
   "metadata": {},
   "outputs": [],
   "source": [
    "df = pd.DataFrame(result_correlation,columns=header)"
   ]
  },
  {
   "cell_type": "code",
   "execution_count": 50,
   "id": "2f594456",
   "metadata": {},
   "outputs": [],
   "source": [
    "df_attributes = df.loc[:,'danceability':]"
   ]
  },
  {
   "cell_type": "code",
   "execution_count": 51,
   "id": "4d8bbb16",
   "metadata": {},
   "outputs": [],
   "source": [
    "df_attributes_corr = df_attributes.corr(method='pearson')"
   ]
  },
  {
   "cell_type": "code",
   "execution_count": 52,
   "id": "4d9eccd9",
   "metadata": {},
   "outputs": [],
   "source": [
    "mask = np.triu(df_attributes_corr,0)"
   ]
  },
  {
   "cell_type": "code",
   "execution_count": 53,
   "id": "02714e75",
   "metadata": {},
   "outputs": [
    {
     "data": {
      "image/png": "[encoded data removed]",
      "text/plain": [
       "<Figure size 1080x576 with 2 Axes>"
      ]
     },
     "metadata": {
      "needs_background": "light"
     },
     "output_type": "display_data"
    }
   ],
   "source": [
    "plt.figure(figsize=(15,8))\n",
    "sns.heatmap(df_attributes_corr,mask=mask,linewidths=1,cmap='RdYlGn',annot=True)\n",
    "plt.show()"
   ]
  },
  {
   "cell_type": "markdown",
   "id": "4bf218e4",
   "metadata": {},
   "source": [
    "#### The most correlated attributes according to pearson correlation are loudness and energy , then we'll find the valence/danceability and valence/loudness couples followed closely by valence/energy."
   ]
  },
  {
   "cell_type": "markdown",
   "id": "ee7797f0",
   "metadata": {},
   "source": [
    "#### The least correlated attributes are acousticness/energy, loudness/acousticness and speechiness/loudness."
   ]
  },
  {
   "cell_type": "markdown",
   "id": "2baf31fc",
   "metadata": {},
   "source": [
    "### Which attributes have the most variability? Which tend to be the most similar among the Top 100 songs? "
   ]
  },
  {
   "cell_type": "markdown",
   "id": "828dfb5b",
   "metadata": {},
   "source": [
    "To study the variability of an attributes I will compare their range, their mean, standard deviation and their variance, I will use the same df to obtain these informations."
   ]
  },
  {
   "cell_type": "code",
   "execution_count": 54,
   "id": "445a3591",
   "metadata": {},
   "outputs": [
    {
     "data": {
      "text/html": [
       "<div>\n",
       "<style scoped>\n",
       "    .dataframe tbody tr th:only-of-type {\n",
       "        vertical-align: middle;\n",
       "    }\n",
       "\n",
       "    .dataframe tbody tr th {\n",
       "        vertical-align: top;\n",
       "    }\n",
       "\n",
       "    .dataframe thead th {\n",
       "        text-align: right;\n",
       "    }\n",
       "</style>\n",
       "<table border=\"1\" class=\"dataframe\">\n",
       "  <thead>\n",
       "    <tr style=\"text-align: right;\">\n",
       "      <th></th>\n",
       "      <th>danceability</th>\n",
       "      <th>energy</th>\n",
       "      <th>key</th>\n",
       "      <th>loudness</th>\n",
       "      <th>mode</th>\n",
       "      <th>speechiness</th>\n",
       "      <th>acousticness</th>\n",
       "      <th>instrumentalness</th>\n",
       "      <th>liveness</th>\n",
       "      <th>valence</th>\n",
       "      <th>tempo</th>\n",
       "      <th>duration_ms</th>\n",
       "      <th>time_signature</th>\n",
       "    </tr>\n",
       "  </thead>\n",
       "  <tbody>\n",
       "    <tr>\n",
       "      <th>count</th>\n",
       "      <td>100.00000</td>\n",
       "      <td>100.000000</td>\n",
       "      <td>100.000000</td>\n",
       "      <td>100.000000</td>\n",
       "      <td>100.000000</td>\n",
       "      <td>100.000000</td>\n",
       "      <td>100.000000</td>\n",
       "      <td>100.000000</td>\n",
       "      <td>100.000000</td>\n",
       "      <td>100.000000</td>\n",
       "      <td>100.000000</td>\n",
       "      <td>100.000000</td>\n",
       "      <td>100.00</td>\n",
       "    </tr>\n",
       "    <tr>\n",
       "      <th>mean</th>\n",
       "      <td>0.71646</td>\n",
       "      <td>0.659060</td>\n",
       "      <td>5.330000</td>\n",
       "      <td>-5.677640</td>\n",
       "      <td>0.590000</td>\n",
       "      <td>0.115569</td>\n",
       "      <td>0.195701</td>\n",
       "      <td>0.001584</td>\n",
       "      <td>0.158302</td>\n",
       "      <td>0.484443</td>\n",
       "      <td>119.904180</td>\n",
       "      <td>205206.780000</td>\n",
       "      <td>3.98</td>\n",
       "    </tr>\n",
       "    <tr>\n",
       "      <th>std</th>\n",
       "      <td>0.13107</td>\n",
       "      <td>0.145067</td>\n",
       "      <td>3.676447</td>\n",
       "      <td>1.777577</td>\n",
       "      <td>0.494311</td>\n",
       "      <td>0.104527</td>\n",
       "      <td>0.220946</td>\n",
       "      <td>0.013449</td>\n",
       "      <td>0.111662</td>\n",
       "      <td>0.206145</td>\n",
       "      <td>28.795984</td>\n",
       "      <td>40007.893404</td>\n",
       "      <td>0.20</td>\n",
       "    </tr>\n",
       "    <tr>\n",
       "      <th>min</th>\n",
       "      <td>0.25800</td>\n",
       "      <td>0.296000</td>\n",
       "      <td>0.000000</td>\n",
       "      <td>-10.109000</td>\n",
       "      <td>0.000000</td>\n",
       "      <td>0.023200</td>\n",
       "      <td>0.000282</td>\n",
       "      <td>0.000000</td>\n",
       "      <td>0.021500</td>\n",
       "      <td>0.079600</td>\n",
       "      <td>64.934000</td>\n",
       "      <td>95467.000000</td>\n",
       "      <td>3.00</td>\n",
       "    </tr>\n",
       "    <tr>\n",
       "      <th>25%</th>\n",
       "      <td>0.63550</td>\n",
       "      <td>0.562000</td>\n",
       "      <td>1.750000</td>\n",
       "      <td>-6.650500</td>\n",
       "      <td>0.000000</td>\n",
       "      <td>0.045350</td>\n",
       "      <td>0.040225</td>\n",
       "      <td>0.000000</td>\n",
       "      <td>0.094675</td>\n",
       "      <td>0.341000</td>\n",
       "      <td>95.730750</td>\n",
       "      <td>184680.000000</td>\n",
       "      <td>4.00</td>\n",
       "    </tr>\n",
       "    <tr>\n",
       "      <th>50%</th>\n",
       "      <td>0.73300</td>\n",
       "      <td>0.678000</td>\n",
       "      <td>5.000000</td>\n",
       "      <td>-5.566500</td>\n",
       "      <td>1.000000</td>\n",
       "      <td>0.074950</td>\n",
       "      <td>0.109000</td>\n",
       "      <td>0.000000</td>\n",
       "      <td>0.118500</td>\n",
       "      <td>0.470500</td>\n",
       "      <td>120.116000</td>\n",
       "      <td>205047.500000</td>\n",
       "      <td>4.00</td>\n",
       "    </tr>\n",
       "    <tr>\n",
       "      <th>75%</th>\n",
       "      <td>0.79825</td>\n",
       "      <td>0.772250</td>\n",
       "      <td>8.250000</td>\n",
       "      <td>-4.363750</td>\n",
       "      <td>1.000000</td>\n",
       "      <td>0.137000</td>\n",
       "      <td>0.247750</td>\n",
       "      <td>0.000031</td>\n",
       "      <td>0.170750</td>\n",
       "      <td>0.641500</td>\n",
       "      <td>140.022750</td>\n",
       "      <td>221493.250000</td>\n",
       "      <td>4.00</td>\n",
       "    </tr>\n",
       "    <tr>\n",
       "      <th>max</th>\n",
       "      <td>0.96400</td>\n",
       "      <td>0.909000</td>\n",
       "      <td>11.000000</td>\n",
       "      <td>-2.384000</td>\n",
       "      <td>1.000000</td>\n",
       "      <td>0.530000</td>\n",
       "      <td>0.934000</td>\n",
       "      <td>0.134000</td>\n",
       "      <td>0.636000</td>\n",
       "      <td>0.931000</td>\n",
       "      <td>198.075000</td>\n",
       "      <td>417920.000000</td>\n",
       "      <td>5.00</td>\n",
       "    </tr>\n",
       "  </tbody>\n",
       "</table>\n",
       "</div>"
      ],
      "text/plain": [
       "       danceability      energy         key    loudness        mode  \\\n",
       "count     100.00000  100.000000  100.000000  100.000000  100.000000   \n",
       "mean        0.71646    0.659060    5.330000   -5.677640    0.590000   \n",
       "std         0.13107    0.145067    3.676447    1.777577    0.494311   \n",
       "min         0.25800    0.296000    0.000000  -10.109000    0.000000   \n",
       "25%         0.63550    0.562000    1.750000   -6.650500    0.000000   \n",
       "50%         0.73300    0.678000    5.000000   -5.566500    1.000000   \n",
       "75%         0.79825    0.772250    8.250000   -4.363750    1.000000   \n",
       "max         0.96400    0.909000   11.000000   -2.384000    1.000000   \n",
       "\n",
       "       speechiness  acousticness  instrumentalness    liveness     valence  \\\n",
       "count   100.000000    100.000000        100.000000  100.000000  100.000000   \n",
       "mean      0.115569      0.195701          0.001584    0.158302    0.484443   \n",
       "std       0.104527      0.220946          0.013449    0.111662    0.206145   \n",
       "min       0.023200      0.000282          0.000000    0.021500    0.079600   \n",
       "25%       0.045350      0.040225          0.000000    0.094675    0.341000   \n",
       "50%       0.074950      0.109000          0.000000    0.118500    0.470500   \n",
       "75%       0.137000      0.247750          0.000031    0.170750    0.641500   \n",
       "max       0.530000      0.934000          0.134000    0.636000    0.931000   \n",
       "\n",
       "            tempo    duration_ms  time_signature  \n",
       "count  100.000000     100.000000          100.00  \n",
       "mean   119.904180  205206.780000            3.98  \n",
       "std     28.795984   40007.893404            0.20  \n",
       "min     64.934000   95467.000000            3.00  \n",
       "25%     95.730750  184680.000000            4.00  \n",
       "50%    120.116000  205047.500000            4.00  \n",
       "75%    140.022750  221493.250000            4.00  \n",
       "max    198.075000  417920.000000            5.00  "
      ]
     },
     "execution_count": 54,
     "metadata": {},
     "output_type": "execute_result"
    }
   ],
   "source": [
    "df_attributes.describe()"
   ]
  },
  {
   "cell_type": "code",
   "execution_count": 62,
   "id": "2a278074",
   "metadata": {},
   "outputs": [
    {
     "data": {
      "text/plain": [
       "danceability             0.706000\n",
       "energy                   0.613000\n",
       "key                     11.000000\n",
       "loudness                 7.725000\n",
       "mode                     1.000000\n",
       "speechiness              0.506800\n",
       "acousticness             0.933718\n",
       "instrumentalness         0.134000\n",
       "liveness                 0.614500\n",
       "valence                  0.851400\n",
       "tempo                  133.141000\n",
       "duration_ms         322453.000000\n",
       "time_signature           2.000000\n",
       "dtype: float64"
      ]
     },
     "execution_count": 62,
     "metadata": {},
     "output_type": "execute_result"
    }
   ],
   "source": [
    "df_attributes.max()-df_attributes.min()"
   ]
  },
  {
   "cell_type": "code",
   "execution_count": null,
   "id": "52aebb51",
   "metadata": {},
   "outputs": [],
   "source": []
  },
  {
   "cell_type": "code",
   "execution_count": null,
   "id": "8aa272b0",
   "metadata": {},
   "outputs": [],
   "source": []
  },
  {
   "cell_type": "code",
   "execution_count": null,
   "id": "6cd68cf3",
   "metadata": {},
   "outputs": [],
   "source": []
  }
 ],
 "metadata": {
  "kernelspec": {
   "display_name": "Python 3 (ipykernel)",
   "language": "python",
   "name": "python3"
  },
  "language_info": {
   "codemirror_mode": {
    "name": "ipython",
    "version": 3
   },
   "file_extension": ".py",
   "mimetype": "text/x-python",
   "name": "python",
   "nbconvert_exporter": "python",
   "pygments_lexer": "ipython3",
   "version": "3.9.12"
  }
 },
 "nbformat": 4,
 "nbformat_minor": 5
}
