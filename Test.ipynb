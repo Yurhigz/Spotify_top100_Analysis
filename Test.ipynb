{
 "cells": [
  {
   "cell_type": "code",
   "execution_count": 2,
   "id": "dfbe5410",
   "metadata": {},
   "outputs": [],
   "source": [
    "import mysql.connector\n"
   ]
  },
  {
   "cell_type": "code",
   "execution_count": 4,
   "id": "c61fea7a",
   "metadata": {},
   "outputs": [],
   "source": [
    "mydb = mysql.connector.connect(\n",
    "    host= 'localhost',\n",
    "    user='root',\n",
    "    password='Benben123,',\n",
    "    database='spotify_top_100'\n",
    ")\n",
    "\n",
    "mycursor = mydb.cursor()\n"
   ]
  },
  {
   "cell_type": "code",
   "execution_count": 5,
   "id": "ebdb847b",
   "metadata": {},
   "outputs": [],
   "source": [
    "request_1 =  \"SELECT  artists,  count(*) AS nb_top100_songs FROM top2018 GROUP BY 1 ORDER BY 2 DESC LIMIT 1;\""
   ]
  },
  {
   "cell_type": "code",
   "execution_count": 12,
   "id": "c5a00770",
   "metadata": {},
   "outputs": [],
   "source": [
    "mycursor.execute(request_1)"
   ]
  },
  {
   "cell_type": "code",
   "execution_count": 13,
   "id": "835f684b",
   "metadata": {},
   "outputs": [],
   "source": [
    "myresult = mycursor.fetchall()"
   ]
  },
  {
   "cell_type": "code",
   "execution_count": 14,
   "id": "7e4940b3",
   "metadata": {},
   "outputs": [
    {
     "data": {
      "text/plain": [
       "[('XXXTENTACION', 6)]"
      ]
     },
     "execution_count": 14,
     "metadata": {},
     "output_type": "execute_result"
    }
   ],
   "source": [
    "myresult"
   ]
  }
 ],
 "metadata": {
  "kernelspec": {
   "display_name": "Python 3 (ipykernel)",
   "language": "python",
   "name": "python3"
  },
  "language_info": {
   "codemirror_mode": {
    "name": "ipython",
    "version": 3
   },
   "file_extension": ".py",
   "mimetype": "text/x-python",
   "name": "python",
   "nbconvert_exporter": "python",
   "pygments_lexer": "ipython3",
   "version": "3.9.12"
  }
 },
 "nbformat": 4,
 "nbformat_minor": 5
}
